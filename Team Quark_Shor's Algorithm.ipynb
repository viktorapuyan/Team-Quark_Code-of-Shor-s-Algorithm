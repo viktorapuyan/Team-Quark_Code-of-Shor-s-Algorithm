{
  "nbformat": 4,
  "nbformat_minor": 0,
  "metadata": {
    "colab": {
      "provenance": []
    },
    "kernelspec": {
      "name": "python3",
      "display_name": "Python 3"
    },
    "language_info": {
      "name": "python"
    }
  },
  "cells": [
    {
      "cell_type": "code",
      "source": [
        "import random, itertools\n",
        "import math\n"
      ],
      "metadata": {
        "id": "mXtuNw7hYo5G"
      },
      "execution_count": null,
      "outputs": []
    },
    {
      "cell_type": "code",
      "source": [
        "# Brute force period finding algorithm\n",
        "def find_period_classical(x, N):\n",
        "    n = 1\n",
        "    t = x\n",
        "    while t != 1:\n",
        "        t *= x\n",
        "        t %= N\n",
        "        n += 1\n",
        "    return n"
      ],
      "metadata": {
        "id": "SDnWWdmbYoG3"
      },
      "execution_count": null,
      "outputs": []
    },
    {
      "cell_type": "code",
      "source": [
        "# Sieve of Eratosthenes algorithm\n",
        "def sieve():\n",
        "    D = {}\n",
        "    yield 2\n",
        "    for q in itertools.islice(itertools.count(3), 0, None, 2):\n",
        "        p = D.pop(q, None)\n",
        "        if p is None:\n",
        "            D[q*q] = q\n",
        "            yield q\n",
        "        else:\n",
        "            x = p + q\n",
        "            while x in D or not (x & 1):\n",
        "                x += p\n",
        "            D[x] = p\n",
        "\n",
        "# Creates a list of prime numbers up to the given argument\n",
        "def get_primes_sieve(n):\n",
        "    return list(itertools.takewhile(lambda p: p < n, sieve()))\n",
        "\n",
        "# Semiprime N is fixed to 15\n",
        "N = 15\n",
        "\n",
        "print(\"semiprime N =\",N)"
      ],
      "metadata": {
        "colab": {
          "base_uri": "https://localhost:8080/"
        },
        "id": "XrrpDqNWYsp8",
        "outputId": "36c9ea83-c3a1-4a79-b33a-01f3dc9ed0d3"
      },
      "execution_count": null,
      "outputs": [
        {
          "output_type": "stream",
          "name": "stdout",
          "text": [
            "semiprime N = 15\n"
          ]
        }
      ]
    },
    {
      "cell_type": "code",
      "source": [
        "\n",
        "# Shor's algorithm (classical version) for factoring N\n",
        "def shors_algorithm_classical(N, a):\n",
        "    x = a  # Fixing 'a' to 2 as requested\n",
        "    if math.gcd(x, N) != 1:  # Step two\n",
        "        return x, 0, math.gcd(x, N), N // math.gcd(x, N)\n",
        "\n",
        "    r = find_period_classical(x, N)  # Step three\n",
        "    while r % 2 != 0:  # Ensure the period is even\n",
        "        r = find_period_classical(x, N)\n",
        "\n",
        "    p = math.gcd(x ** (r // 2) + 1, N)  # Step four, ignoring special case\n",
        "    q = math.gcd(x ** (r // 2) - 1, N)\n",
        "    return x, r, p, q\n",
        "\n",
        "# Set a = 2 and N = 15\n",
        "a = 2\n",
        "x, r, p, q = shors_algorithm_classical(N, a)\n",
        "print(\"Semiprime N =\", N, \", Coprime a =\", a, \", Period r =\", r, \", Prime factors =\", p, \"and\", q)\n"
      ],
      "metadata": {
        "colab": {
          "base_uri": "https://localhost:8080/"
        },
        "id": "5E8mLk2EYLuo",
        "outputId": "052911df-56e8-4391-d049-3b8185d49466"
      },
      "execution_count": null,
      "outputs": [
        {
          "output_type": "stream",
          "name": "stdout",
          "text": [
            "Semiprime N = 15 , Coprime a = 2 , Period r = 4 , Prime factors = 5 and 3\n"
          ]
        }
      ]
    },
    {
      "cell_type": "code",
      "source": [
        "import random\n",
        "import math\n",
        "\n",
        "# Brute force period finding algorithm\n",
        "def find_period_classical(x, N):\n",
        "    n = 1\n",
        "    t = x\n",
        "    while t != 1:\n",
        "        t *= x\n",
        "        t %= N\n",
        "        n += 1\n",
        "    return n\n",
        "\n",
        "# Semiprime N is fixed to 15\n",
        "N = 21\n",
        "\n",
        "# Shor's algorithm (classical version) for factoring N\n",
        "def shors_algorithm_classical(N, a):\n",
        "    x = a\n",
        "    if math.gcd(x, N) != 1:\n",
        "        return x, 0, math.gcd(x, N), N // math.gcd(x, N)\n",
        "\n",
        "    r = find_period_classical(x, N)\n",
        "    while r % 2 != 0:\n",
        "        r = find_period_classical(x, N)\n",
        "\n",
        "    p = math.gcd(x ** (r // 2) + 1, N)  #\n",
        "    q = math.gcd(x ** (r // 2) - 1, N)\n",
        "    return x, r, p, q\n",
        "\n",
        "# Set a = 2 and N = 15\n",
        "a = 2\n",
        "\n",
        "x, r, p, q = shors_algorithm_classical(N, a)\n",
        "print(\"Semiprime N =\", N, \", Coprime a =\", a, \", Period r =\", r, \", Prime factors =\", p, \"and\", q)\n"
      ],
      "metadata": {
        "colab": {
          "base_uri": "https://localhost:8080/"
        },
        "id": "KjYeC1X2ZmRY",
        "outputId": "a2e66d93-2d45-4e4b-c1e7-6aab7f5289f6"
      },
      "execution_count": null,
      "outputs": [
        {
          "output_type": "stream",
          "name": "stdout",
          "text": [
            "Semiprime N = 21 , Coprime a = 2 , Period r = 6 , Prime factors = 3 and 7\n"
          ]
        }
      ]
    }
  ]
}